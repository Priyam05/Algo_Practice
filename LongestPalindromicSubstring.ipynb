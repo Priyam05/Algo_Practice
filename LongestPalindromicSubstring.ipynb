{
 "cells": [
  {
   "cell_type": "code",
   "execution_count": 10,
   "metadata": {},
   "outputs": [],
   "source": [
    "#Given the center of the palindrome, we will find the longest palindrome possible with that center. \n",
    "\n",
    "def getLength(s, left, right):\n",
    "    while(left>=0 and right<len(s) and s[left]==s[right]):\n",
    "        left-=1\n",
    "        right+=1\n",
    "    \n",
    "    return right-left-1"
   ]
  },
  {
   "cell_type": "markdown",
   "metadata": {},
   "source": [
    "Note that there can be two types of center in palindrome (aba and abba). So we need to consider both and pick the one with max length. We will start from first index ie: considering 1st index as the center and then proceed towards right"
   ]
  },
  {
   "cell_type": "code",
   "execution_count": 11,
   "metadata": {},
   "outputs": [],
   "source": [
    "def longestPalindrome(s):\n",
    "    if(s is None or s.strip()==\"\"):\n",
    "        return None\n",
    "    else:\n",
    "        maxLen=0\n",
    "        \n",
    "        for i in range(len(s)):\n",
    "            len1= getLength(s,i,i) #aba case\n",
    "            len2=getLength(s, i, i+1) #abba case\n",
    "            curr_max = max(len1, len2)\n",
    "            \n",
    "            if(curr_max > maxLen):\n",
    "                maxLen = curr_max\n",
    "                start= i - int(maxLen/2 -1)\n",
    "                end = i + int(maxLen/2)\n",
    "        return s[start:end+1]"
   ]
  },
  {
   "cell_type": "code",
   "execution_count": 13,
   "metadata": {},
   "outputs": [
    {
     "data": {
      "text/plain": [
       "'bababaababab'"
      ]
     },
     "execution_count": 13,
     "metadata": {},
     "output_type": "execute_result"
    }
   ],
   "source": [
    "longestPalindrome(\"abbabababaababab\")"
   ]
  },
  {
   "cell_type": "code",
   "execution_count": null,
   "metadata": {},
   "outputs": [],
   "source": []
  }
 ],
 "metadata": {
  "kernelspec": {
   "display_name": "Python 3",
   "language": "python",
   "name": "python3"
  },
  "language_info": {
   "codemirror_mode": {
    "name": "ipython",
    "version": 3
   },
   "file_extension": ".py",
   "mimetype": "text/x-python",
   "name": "python",
   "nbconvert_exporter": "python",
   "pygments_lexer": "ipython3",
   "version": "3.7.3"
  }
 },
 "nbformat": 4,
 "nbformat_minor": 2
}
