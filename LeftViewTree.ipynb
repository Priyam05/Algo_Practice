{
 "cells": [
  {
   "cell_type": "code",
   "execution_count": 3,
   "metadata": {},
   "outputs": [],
   "source": [
    "class Leaf:\n",
    "    def __init__(self, data=None, right=None, left=None):\n",
    "        self.data = data\n",
    "        self.right = right\n",
    "        self.left = left\n",
    "    \n",
    "    def setLeft(self, node):\n",
    "        self.left = node\n",
    "    \n",
    "    def setRight(self, node):\n",
    "        self.right = node\n",
    "    \n",
    "    def setData(self, data):\n",
    "        self.data = data\n",
    "    \n",
    "    def getData(self):\n",
    "        return self.data\n",
    "    \n",
    "    def getLeft(self):\n",
    "        return self.left\n",
    "    \n",
    "    def getRight(self):\n",
    "        return self.right\n",
    "        "
   ]
  },
  {
   "cell_type": "code",
   "execution_count": 32,
   "metadata": {},
   "outputs": [],
   "source": [
    "class Tree:\n",
    "    def __init__(self, root=None):\n",
    "        self.root=root\n",
    "        \n",
    "    def printTree(self, leaf):        \n",
    "        if(leaf):\n",
    "            print(leaf.getData())\n",
    "            self.printTree(leaf.getLeft())\n",
    "            self.printTree(leaf.getRight())\n",
    "    \n",
    "    def printLeftView(self, leaf):\n",
    "        if(leaf):\n",
    "            print(leaf.getData())\n",
    "            self.printTree(leaf.getLeft())\n",
    "                \n",
    "    "
   ]
  },
  {
   "cell_type": "code",
   "execution_count": 33,
   "metadata": {},
   "outputs": [],
   "source": [
    "sample = Tree()"
   ]
  },
  {
   "cell_type": "code",
   "execution_count": 34,
   "metadata": {},
   "outputs": [],
   "source": [
    "root = Leaf(10)"
   ]
  },
  {
   "cell_type": "code",
   "execution_count": 35,
   "metadata": {},
   "outputs": [],
   "source": [
    "sample.root = root"
   ]
  },
  {
   "cell_type": "code",
   "execution_count": 36,
   "metadata": {},
   "outputs": [],
   "source": [
    "root.left = Leaf(12)\n",
    "root.right = Leaf(13)"
   ]
  },
  {
   "cell_type": "code",
   "execution_count": 37,
   "metadata": {},
   "outputs": [],
   "source": [
    "root.left.left = Leaf(14)\n",
    "root.left.right= Leaf(15)\n",
    "root.right.left = Leaf(16)\n",
    "root.right.right = Leaf(17)"
   ]
  },
  {
   "cell_type": "code",
   "execution_count": 38,
   "metadata": {},
   "outputs": [
    {
     "name": "stdout",
     "output_type": "stream",
     "text": [
      "10\n",
      "12\n",
      "14\n",
      "15\n",
      "13\n",
      "16\n",
      "17\n"
     ]
    }
   ],
   "source": [
    "sample.printTree(sample.root)"
   ]
  },
  {
   "cell_type": "code",
   "execution_count": 39,
   "metadata": {},
   "outputs": [
    {
     "name": "stdout",
     "output_type": "stream",
     "text": [
      "10\n",
      "12\n",
      "14\n",
      "15\n"
     ]
    }
   ],
   "source": [
    "sample.printLeftView(sample.root)"
   ]
  },
  {
   "cell_type": "code",
   "execution_count": null,
   "metadata": {},
   "outputs": [],
   "source": []
  }
 ],
 "metadata": {
  "kernelspec": {
   "display_name": "Python 3",
   "language": "python",
   "name": "python3"
  },
  "language_info": {
   "codemirror_mode": {
    "name": "ipython",
    "version": 3
   },
   "file_extension": ".py",
   "mimetype": "text/x-python",
   "name": "python",
   "nbconvert_exporter": "python",
   "pygments_lexer": "ipython3",
   "version": "3.7.3"
  }
 },
 "nbformat": 4,
 "nbformat_minor": 2
}
