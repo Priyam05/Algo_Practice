{
 "cells": [
  {
   "cell_type": "code",
   "execution_count": 53,
   "metadata": {},
   "outputs": [],
   "source": [
    "b = [[1,2,3],[3,2,1]]"
   ]
  },
  {
   "cell_type": "code",
   "execution_count": 120,
   "metadata": {},
   "outputs": [],
   "source": [
    "a=[[1,2,1,0],[1,1,1,1],[2,1,1,0],[0,1,1,2]]"
   ]
  },
  {
   "cell_type": "code",
   "execution_count": 121,
   "metadata": {},
   "outputs": [
    {
     "data": {
      "text/plain": [
       "[[1, 2, 1, 0], [1, 1, 1, 1], [2, 1, 1, 0], [0, 1, 1, 2]]"
      ]
     },
     "execution_count": 121,
     "metadata": {},
     "output_type": "execute_result"
    }
   ],
   "source": [
    "a"
   ]
  },
  {
   "cell_type": "code",
   "execution_count": 19,
   "metadata": {},
   "outputs": [],
   "source": [
    "int[] dx = {-1, 0, 1, 0}\n",
    "int[] dy = {0, 1, 0, -1}\n",
    "\n",
    "\n",
    "(r, c) ->\n",
    "\n",
    "for (int i = 0; i < 4; i++) {\n",
    "    newR = r + dx[i]\n",
    "    newC = c + dy[i]    \n",
    "}\n",
    "\n",
    "\n",
    "\n",
    "def checkStrand(A,i,j):\n",
    "    net=[]\n",
    "    if(i<len(A)-1):\n",
    "        if(A[i+1][j]==A[i][j]):\n",
    "            net.append((\"down\",i+1,j))\n",
    "    if(j<len(A[0])-1):\n",
    "        if(A[i][j+1]==A[i][j]):\n",
    "            net.append((\"right\",i,j+1))\n",
    "    if(j>0):\n",
    "        if(A[i][j-1]==A[i][j]):\n",
    "            net.append((\"left\",i,j-1))\n",
    "    return net"
   ]
  },
  {
   "cell_type": "code",
   "execution_count": 57,
   "metadata": {},
   "outputs": [],
   "source": [
    "def isLeft(A,i,j):\n",
    "    if(j>0):\n",
    "        if(A[i][j-1]==A[i][j]):\n",
    "            return True\n",
    "    return False\n",
    "\n",
    "def isRight(A,i,j):\n",
    "    if(j<len(A[0])-1):\n",
    "        if(A[i][j+1]==A[i][j]):\n",
    "            return True\n",
    "    return False\n",
    "\n",
    "def isDown(A,i,j):\n",
    "    if(i<len(A)-1):\n",
    "        if(A[i+1][j]==A[i][j]):\n",
    "            return True\n",
    "    return False"
   ]
  },
  {
   "cell_type": "code",
   "execution_count": 58,
   "metadata": {},
   "outputs": [],
   "source": [
    "def recurse(A,i,j,checked,maxVal=0):\n",
    "    print(\"Test\",(i,j))\n",
    "    if(isLeft(A,i,j)):\n",
    "        if(checked[i][j-1]==0):\n",
    "            checked[i][j-1]=1\n",
    "            print(\"Going left:\",i,j-1,\"at maxVal:\", maxVal+1)\n",
    "            maxVal =max(maxVal,recurse(A,i,j-1,checked, maxVal+1))\n",
    "\n",
    "    if(isRight(A,i,j)):\n",
    "        if(checked[i][j+1]==0):\n",
    "            checked[i][j+1]=1\n",
    "            print(\"Going right:\",i,j+1,\"at maxVal:\", maxVal+1)\n",
    "            maxVal =max(maxVal,recurse(A,i,j+1,checked, maxVal+1))\n",
    "    \n",
    "\n",
    "    if(isDown(A,i,j)):\n",
    "        if(checked[i+1][j]==0):\n",
    "            checked[i+1][j]=1\n",
    "            print(\"Going down:\",i+1,j,\"at maxVal:\", maxVal+1)\n",
    "            maxVal =max(maxVal,recurse(A,i+1,j,checked, maxVal+1))\n",
    "    print(\"Ended\")\n",
    "    return maxVal\n",
    "            \n",
    "            "
   ]
  },
  {
   "cell_type": "code",
   "execution_count": null,
   "metadata": {},
   "outputs": [],
   "source": []
  },
  {
   "cell_type": "code",
   "execution_count": 1,
   "metadata": {},
   "outputs": [],
   "source": [
    "a=[[1,2,1,0],[1,1,1,1],[2,1,1,0],[0,1,1,2]]"
   ]
  },
  {
   "cell_type": "code",
   "execution_count": 178,
   "metadata": {},
   "outputs": [
    {
     "name": "stdout",
     "output_type": "stream",
     "text": [
      "Test (0, 0)\n",
      "Going down: 1 0 at maxVal: 1\n",
      "Test (1, 0)\n",
      "Going right: 1 1 at maxVal: 2\n",
      "Test (1, 1)\n",
      "Going right: 1 2 at maxVal: 3\n",
      "Test (1, 2)\n",
      "Going right: 1 3 at maxVal: 4\n",
      "Test (1, 3)\n",
      "Ended\n",
      "Going down: 2 2 at maxVal: 5\n",
      "Test (2, 2)\n",
      "Going left: 2 1 at maxVal: 6\n",
      "Test (2, 1)\n",
      "Going down: 3 1 at maxVal: 7\n",
      "Test (3, 1)\n",
      "Going right: 3 2 at maxVal: 8\n",
      "Test (3, 2)\n",
      "Ended\n",
      "Ended\n",
      "Ended\n",
      "Ended\n",
      "Ended\n",
      "Ended\n",
      "Ended\n",
      "Ended\n"
     ]
    }
   ],
   "source": [
    "checked=[[0 for j in range(len(a[0]))] for i in range(len(a))]\n",
    "maxValF=recurse(a,0,0, checked)"
   ]
  },
  {
   "cell_type": "code",
   "execution_count": 179,
   "metadata": {},
   "outputs": [
    {
     "data": {
      "text/plain": [
       "8"
      ]
     },
     "execution_count": 179,
     "metadata": {},
     "output_type": "execute_result"
    }
   ],
   "source": [
    "maxValF"
   ]
  },
  {
   "cell_type": "code",
   "execution_count": 162,
   "metadata": {},
   "outputs": [],
   "source": [
    "class Node:\n",
    "    def __init__(self):\n",
    "        self.left=None\n",
    "        self.right=None\n",
    "        self.depth=None\n",
    "        "
   ]
  },
  {
   "cell_type": "code",
   "execution_count": null,
   "metadata": {},
   "outputs": [],
   "source": [
    "class DecisionTree:\n",
    "    def __init__(self, depth=None):\n",
    "        self.root=None\n",
    "        self.depth=depth\n",
    "        \n",
    "    def build(self,X,node=None):\n",
    "        \n",
    "        if(node==None):\n",
    "            node=Node()\n",
    "            self.root=node\n",
    "            node.depth=1\n",
    "        if(node.depth<self.depth)\n",
    "            Xl, Xr = X-1, X+1\n",
    "            node.left=Node()\n",
    "            node.left.depth=node.depth+1\n",
    "            node.right=Node()\n",
    "            node.right.depth=node.depth+1\n",
    "            self.build(Xl, node.left)\n",
    "            self.build(Xr, node.right)\n",
    "            \n"
   ]
  },
  {
   "cell_type": "code",
   "execution_count": null,
   "metadata": {},
   "outputs": [],
   "source": []
  },
  {
   "cell_type": "code",
   "execution_count": 3,
   "metadata": {},
   "outputs": [],
   "source": [
    "a = [[2,1,2,2,2],[1,1,1,1,2],[1,1,2,2,2],[1,3,3,3,3]]"
   ]
  },
  {
   "cell_type": "code",
   "execution_count": 18,
   "metadata": {},
   "outputs": [],
   "source": [
    "def checkLeft(the_list, i,j):\n",
    "    if(j>0 and (the_list[i][j-1]==the_list[i][j])):\n",
    "        return True\n",
    "    else:\n",
    "        return False\n",
    "\n",
    "def checkRight(the_list, i,j):\n",
    "    if((j < len(the_list[0])-1) and (the_list[i][j+1]==the_list[i][j])):\n",
    "        return True\n",
    "    else:\n",
    "        return False\n",
    "    \n",
    "def checkUp(the_list, i,j):\n",
    "    if(i > 0 and (the_list[i-1][j]==the_list[i][j])):\n",
    "        return True\n",
    "    else:\n",
    "        return False\n",
    "    \n",
    "def checkDown(the_list, i,j):\n",
    "    if((i < len(the_list)-1) and (the_list[i+1][j]==the_list[i][j])):\n",
    "        return True\n",
    "    else:\n",
    "        return False"
   ]
  },
  {
   "cell_type": "code",
   "execution_count": null,
   "metadata": {},
   "outputs": [],
   "source": []
  },
  {
   "cell_type": "code",
   "execution_count": null,
   "metadata": {},
   "outputs": [],
   "source": []
  },
  {
   "cell_type": "code",
   "execution_count": 2,
   "metadata": {},
   "outputs": [],
   "source": [
    "def longest_strand(the_list):\n",
    "    max_strand = (0,0)\n",
    "    dyn_matrix = [[0 for j in range(len(the_list[0]))] for i in range(len(the_list))]\n",
    "    for i in range(len(the_list)):\n",
    "        for j in range(len(the_list[0])):\n",
    "            if(dyn_matrix[i][j]==0):\n",
    "                length = checkStrand(the_list, i,j, dyn_matrix)\n",
    "                if(length>max_strand[0]):\n",
    "                    max_strand=(length, dyn_matrix[i][j]) \n",
    "                \n",
    "    return max_strand"
   ]
  },
  {
   "cell_type": "code",
   "execution_count": null,
   "metadata": {},
   "outputs": [],
   "source": []
  },
  {
   "cell_type": "code",
   "execution_count": 3,
   "metadata": {},
   "outputs": [],
   "source": [
    "\n",
    "def checkStrand(the_list, i, j, dyn_matrix, curr_length=0):\n",
    "    print(i,j,the_list[i][j])\n",
    "    dyn_matrix[i][j]=1\n",
    "    ll=lu=lr=ld=0\n",
    "    bool_left = checkLeft(the_list, i, j) and dyn_matrix[i][j-1]==0\n",
    "    bool_right = checkRight(the_list, i, j) and dyn_matrix[i][j+1]==0\n",
    "    bool_up = checkUp(the_list, i, j) and dyn_matrix[i-1][j]==0\n",
    "    bool_down = checkDown(the_list, i, j) and dyn_matrix[i+1][j]==0\n",
    "    print(bool_left, bool_right, bool_up, bool_down)\n",
    "    if(not(bool_left) and not(bool_right) and not(bool_up) and not(bool_down)):\n",
    "        print(\"yo\",curr_length)\n",
    "        return curr_length\n",
    "    if(bool_left):\n",
    "        ll=checkStrand(the_list,i,j-1, dyn_matrix, curr_length+1)\n",
    "    #Now we need to recheck the boolean as dyn_matrix might have been updated after previous recursion\n",
    "    bool_right = checkRight(the_list, i, j) and dyn_matrix[i][j+1]==0\n",
    "    if(bool_right):\n",
    "        lr=checkStrand(the_list,i,j+1, dyn_matrix, curr_length+1)\n",
    "    \n",
    "    bool_up = checkUp(the_list, i, j) and dyn_matrix[i-1][j]==0\n",
    "    if(bool_up):\n",
    "        lu=checkStrand(the_list,i-1,j, dyn_matrix, curr_length+1)\n",
    "        \n",
    "    bool_down = checkDown(the_list, i, j) and dyn_matrix[i+1][j]==0\n",
    "    if(bool_down):\n",
    "        ld= checkStrand(the_list,i+1,j, dyn_matrix, curr_length+1)\n",
    "        #print(ld)\n",
    "    \n",
    "    \n",
    "    return max(ll,lr,lu,ld) \n",
    "        \n",
    "    "
   ]
  },
  {
   "cell_type": "code",
   "execution_count": null,
   "metadata": {},
   "outputs": [],
   "source": []
  },
  {
   "cell_type": "code",
   "execution_count": 7,
   "metadata": {},
   "outputs": [
    {
     "name": "stdout",
     "output_type": "stream",
     "text": [
      "0 1 1\n",
      "False False False True\n",
      "1 1 1\n",
      "True True False True\n",
      "1 0 1\n",
      "False False False True\n",
      "2 0 1\n",
      "False True False True\n",
      "2 1 1\n",
      "False False False False\n",
      "yo 4\n",
      "3 0 1\n",
      "False False False False\n",
      "yo 4\n",
      "1 2 1\n",
      "False True False False\n",
      "1 3 1\n",
      "False False False False\n",
      "yo 3\n"
     ]
    },
    {
     "data": {
      "text/plain": [
       "4"
      ]
     },
     "execution_count": 7,
     "metadata": {},
     "output_type": "execute_result"
    }
   ],
   "source": [
    "dyn_matrix = [[0 for j in range(len(a[0]))] for i in range(len(a))]\n",
    "checkStrand(a,0,1,dyn_matrix)"
   ]
  },
  {
   "cell_type": "code",
   "execution_count": 142,
   "metadata": {},
   "outputs": [
    {
     "name": "stdout",
     "output_type": "stream",
     "text": [
      "0 0 2\n",
      "False False False False\n",
      "yo 0\n",
      "0 1 1\n",
      "False False False True\n",
      "1 1 1\n",
      "True True False True\n",
      "1 0 1\n",
      "False False False True\n",
      "2 0 1\n",
      "False True False True\n",
      "2 1 1\n",
      "False False False False\n",
      "yo 4\n",
      "3 0 1\n",
      "False False False False\n",
      "yo 4\n",
      "1 2 1\n",
      "False True False False\n",
      "1 3 1\n",
      "False False False False\n",
      "yo 3\n",
      "0 2 2\n",
      "False True False False\n",
      "0 3 2\n",
      "False True False False\n",
      "0 4 2\n",
      "False False False True\n",
      "1 4 2\n",
      "False False False True\n",
      "2 4 2\n",
      "True False False False\n",
      "2 3 2\n",
      "True False False False\n",
      "2 2 2\n",
      "False False False False\n",
      "yo 6\n",
      "3 1 3\n",
      "False True False False\n",
      "3 2 3\n",
      "False True False False\n",
      "3 3 3\n",
      "False True False False\n",
      "3 4 3\n",
      "False False False False\n",
      "yo 3\n"
     ]
    },
    {
     "data": {
      "text/plain": [
       "(6, 1)"
      ]
     },
     "execution_count": 142,
     "metadata": {},
     "output_type": "execute_result"
    }
   ],
   "source": [
    "longest_strand(a)"
   ]
  },
  {
   "cell_type": "code",
   "execution_count": 134,
   "metadata": {},
   "outputs": [
    {
     "name": "stdout",
     "output_type": "stream",
     "text": [
      "[[0, 1, 0, 0, 0], [1, 1, 1, 1, 0], [1, 1, 0, 0, 0], [1, 0, 0, 0, 0]]\n"
     ]
    }
   ],
   "source": [
    "print(dyn)"
   ]
  },
  {
   "cell_type": "code",
   "execution_count": 36,
   "metadata": {},
   "outputs": [
    {
     "data": {
      "text/plain": [
       "2"
      ]
     },
     "execution_count": 36,
     "metadata": {},
     "output_type": "execute_result"
    }
   ],
   "source": [
    "a[1][4]"
   ]
  },
  {
   "cell_type": "code",
   "execution_count": 49,
   "metadata": {},
   "outputs": [
    {
     "data": {
      "text/plain": [
       "[[2, 1, 2, 2, 2], [1, 1, 1, 1, 2], [1, 1, 2, 2, 2], [1, 3, 3, 3, 3]]"
      ]
     },
     "execution_count": 49,
     "metadata": {},
     "output_type": "execute_result"
    }
   ],
   "source": [
    "a"
   ]
  },
  {
   "cell_type": "code",
   "execution_count": 51,
   "metadata": {},
   "outputs": [
    {
     "data": {
      "text/plain": [
       "[[0, 1, 0, 0, 0], [1, 1, 1, 1, 0], [1, 1, 0, 0, 0], [1, 0, 0, 0, 0]]"
      ]
     },
     "execution_count": 51,
     "metadata": {},
     "output_type": "execute_result"
    }
   ],
   "source": [
    "dyn"
   ]
  },
  {
   "cell_type": "code",
   "execution_count": 9,
   "metadata": {},
   "outputs": [
    {
     "data": {
      "text/plain": [
       "[[[-1, -1, -1, -1],\n",
       "  [-1, -1, -1, -1],\n",
       "  [-1, -1, -1, -1],\n",
       "  [-1, -1, -1, -1],\n",
       "  [-1, -1, -1, -1]],\n",
       " [[-1, -1, -1, -1],\n",
       "  [-1, -1, -1, -1],\n",
       "  [-1, -1, -1, -1],\n",
       "  [-1, -1, -1, -1],\n",
       "  [-1, -1, -1, -1]],\n",
       " [[-1, -1, -1, -1],\n",
       "  [-1, -1, -1, -1],\n",
       "  [-1, -1, -1, -1],\n",
       "  [-1, -1, -1, -1],\n",
       "  [-1, -1, -1, -1]],\n",
       " [[-1, -1, -1, -1],\n",
       "  [-1, -1, -1, -1],\n",
       "  [-1, -1, -1, -1],\n",
       "  [-1, -1, -1, -1],\n",
       "  [-1, -1, -1, -1]]]"
      ]
     },
     "execution_count": 9,
     "metadata": {},
     "output_type": "execute_result"
    }
   ],
   "source": [
    "[[[-1 for direction in range(4)] for columns in range(len(a[0]))] for rows in range(len(a))]\n",
    "#Each (i,j) location has 4 directions to check: left:0, right:1, up:2, down:3"
   ]
  },
  {
   "cell_type": "code",
   "execution_count": null,
   "metadata": {},
   "outputs": [],
   "source": [
    "def longest_strand2(the_list):\n",
    "    max_strand = (0,0)\n",
    "    #Each (i,j) location has 4 direction distances to check: -1 if not checked yet, 0 if not possible, else will contain a distance\n",
    "    dyn_matrix = [[[-1 for direction in range(4)] for columns in range(len(the_list[0]))] for rows in range(len(the_list))]\n",
    "    #Will hold a max distance else -1\n",
    "    \n",
    "    max_strand=(-1,-1)\n",
    "    for i in range(len(the_list)):\n",
    "        for j in range(len(the_list[0])):\n",
    "            if(min(dyn_matrix[i][j]) == -1):\n",
    "                checkStrand(i,j, the_list, dyn_matrix, max_dyn_matrix)\n",
    "    "
   ]
  },
  {
   "cell_type": "code",
   "execution_count": 2,
   "metadata": {},
   "outputs": [
    {
     "data": {
      "text/plain": [
       "[[1, 2, 1, 0], [1, 1, 1, 1], [2, 1, 1, 0], [0, 1, 1, 2]]"
      ]
     },
     "execution_count": 2,
     "metadata": {},
     "output_type": "execute_result"
    }
   ],
   "source": [
    "a"
   ]
  },
  {
   "cell_type": "code",
   "execution_count": null,
   "metadata": {},
   "outputs": [],
   "source": []
  },
  {
   "cell_type": "code",
   "execution_count": 34,
   "metadata": {},
   "outputs": [],
   "source": [
    "\n",
    "def checkStrand2(the_list, i, j,curr_length=0, closed_states=None):\n",
    "    if(closed_states==None):\n",
    "        closed_states=[]\n",
    "    #print(closed_states)    \n",
    "    ll=lu=lr=ld=0\n",
    "    bool_left = checkLeft(the_list, i, j) and ((i,j-1) not in closed_states)\n",
    "    bool_right = checkRight(the_list, i, j) and ((i,j+1) not in closed_states)\n",
    "    bool_up = checkUp(the_list, i, j) and ((i-1,j) not in closed_states)\n",
    "    bool_down = checkDown(the_list, i, j) and ((i+1,j) not in closed_states)\n",
    "    #print(bool_left, bool_right, bool_up, bool_down)\n",
    "    if(not(bool_left) and not(bool_right) and not(bool_up) and not(bool_down)):\n",
    "        print(\"yo\",curr_length)\n",
    "        return curr_length\n",
    "    if(bool_left):\n",
    "        ll=checkStrand2(the_list,i,j-1,curr_length+1,  closed_states+[(i,j)])\n",
    "\n",
    "\n",
    "    if(bool_right):\n",
    "        lr=checkStrand2(the_list,i,j+1,curr_length+1, closed_states+[(i,j)] )\n",
    "    \n",
    "    if(bool_up):\n",
    "        lu=checkStrand2(the_list,i-1,j, curr_length+1, closed_states+[(i,j)])\n",
    "        \n",
    "    if(bool_down):\n",
    "        #print(\"going south\")\n",
    "        ld= checkStrand2(the_list,i+1,j, curr_length+1, closed_states+[(i,j)])\n",
    "        #print(ld)\n",
    "    \n",
    "    \n",
    "    return max(ll,lr,lu,ld) \n",
    "        \n",
    "    "
   ]
  },
  {
   "cell_type": "code",
   "execution_count": 35,
   "metadata": {},
   "outputs": [
    {
     "name": "stdout",
     "output_type": "stream",
     "text": [
      "yo 4\n",
      "yo 4\n",
      "yo 3\n",
      "yo 4\n",
      "yo 4\n"
     ]
    },
    {
     "data": {
      "text/plain": [
       "4"
      ]
     },
     "execution_count": 35,
     "metadata": {},
     "output_type": "execute_result"
    }
   ],
   "source": [
    "checkStrand2(a, 0,1)"
   ]
  },
  {
   "cell_type": "code",
   "execution_count": 36,
   "metadata": {},
   "outputs": [
    {
     "data": {
      "text/plain": [
       "[[2, 1, 2, 2, 2], [1, 1, 1, 1, 2], [1, 1, 2, 2, 2], [1, 3, 3, 3, 3]]"
      ]
     },
     "execution_count": 36,
     "metadata": {},
     "output_type": "execute_result"
    }
   ],
   "source": [
    "a"
   ]
  },
  {
   "cell_type": "code",
   "execution_count": 6,
   "metadata": {},
   "outputs": [
    {
     "data": {
      "text/plain": [
       "[1, 2]"
      ]
     },
     "execution_count": 6,
     "metadata": {},
     "output_type": "execute_result"
    }
   ],
   "source": [
    "test"
   ]
  },
  {
   "cell_type": "code",
   "execution_count": 7,
   "metadata": {},
   "outputs": [
    {
     "data": {
      "text/plain": [
       "[1, 2, 2]"
      ]
     },
     "execution_count": 7,
     "metadata": {},
     "output_type": "execute_result"
    }
   ],
   "source": [
    "test+[2]"
   ]
  },
  {
   "cell_type": "code",
   "execution_count": 8,
   "metadata": {},
   "outputs": [
    {
     "data": {
      "text/plain": [
       "[1, 2]"
      ]
     },
     "execution_count": 8,
     "metadata": {},
     "output_type": "execute_result"
    }
   ],
   "source": [
    "test"
   ]
  },
  {
   "cell_type": "code",
   "execution_count": 9,
   "metadata": {},
   "outputs": [],
   "source": [
    "test=[(1,1),(2,1)]"
   ]
  },
  {
   "cell_type": "code",
   "execution_count": 12,
   "metadata": {},
   "outputs": [
    {
     "data": {
      "text/plain": [
       "True"
      ]
     },
     "execution_count": 12,
     "metadata": {},
     "output_type": "execute_result"
    }
   ],
   "source": [
    "(1,1) in test"
   ]
  },
  {
   "cell_type": "code",
   "execution_count": null,
   "metadata": {},
   "outputs": [],
   "source": []
  }
 ],
 "metadata": {
  "kernelspec": {
   "display_name": "Python 3",
   "language": "python",
   "name": "python3"
  },
  "language_info": {
   "codemirror_mode": {
    "name": "ipython",
    "version": 3
   },
   "file_extension": ".py",
   "mimetype": "text/x-python",
   "name": "python",
   "nbconvert_exporter": "python",
   "pygments_lexer": "ipython3",
   "version": "3.7.3"
  }
 },
 "nbformat": 4,
 "nbformat_minor": 2
}
