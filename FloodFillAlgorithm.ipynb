{
 "cells": [
  {
   "cell_type": "code",
   "execution_count": 40,
   "metadata": {},
   "outputs": [],
   "source": [
    "a= [[1,2,3,4,4],[1,2,3,3,3],[1,2,4,3,3]]"
   ]
  },
  {
   "cell_type": "code",
   "execution_count": 41,
   "metadata": {},
   "outputs": [
    {
     "data": {
      "text/plain": [
       "[[1, 2, 3, 4, 4], [1, 2, 3, 3, 3], [1, 2, 4, 3, 3]]"
      ]
     },
     "execution_count": 41,
     "metadata": {},
     "output_type": "execute_result"
    }
   ],
   "source": [
    "a"
   ]
  },
  {
   "cell_type": "code",
   "execution_count": 58,
   "metadata": {},
   "outputs": [],
   "source": [
    "def checkLeft(the_list, i,j, real):\n",
    "    if(j==0 or the_list[i][j-1]!= real):\n",
    "        return False\n",
    "    else:\n",
    "        return True\n",
    "\n",
    "def checkRight(the_list, i,j, real):\n",
    "    if(j==len(the_list[0])-1 or the_list[i][j+1]!= real):\n",
    "        return False\n",
    "    else:\n",
    "        return True\n",
    "\n",
    "def checkUp(the_list, i,j, real):\n",
    "    if(i==0 or the_list[i-1][j]!= real):\n",
    "        return False\n",
    "    else:\n",
    "        return True\n",
    "    \n",
    "def checkDown(the_list, i,j, real):\n",
    "    if(i==len(the_list)-1 or the_list[i+1][j]!= real):\n",
    "        return False\n",
    "    else:\n",
    "        return True"
   ]
  },
  {
   "cell_type": "code",
   "execution_count": 59,
   "metadata": {},
   "outputs": [],
   "source": [
    "def call(the_list, i,j, color):\n",
    "    real = the_list[i][j]\n",
    "    the_list[i][j]= color\n",
    "    fillcolor(the_list, i, j, real, color)\n",
    "    return the_list"
   ]
  },
  {
   "cell_type": "code",
   "execution_count": 60,
   "metadata": {},
   "outputs": [],
   "source": [
    "def fillcolor(the_list,i,j, real, color):\n",
    "    #print(real)\n",
    "    \n",
    "    if(checkLeft(the_list, i, j, real)):\n",
    "        the_list[i][j-1]= color\n",
    "        fillcolor(the_list, i, j-1, real, color)\n",
    "    \n",
    "    if(checkRight(the_list, i, j, real)):\n",
    "        the_list[i][j+1]= color\n",
    "        fillcolor(the_list, i, j+1, real, color)\n",
    "    \n",
    "    if(checkUp(the_list, i, j, real)):\n",
    "        the_list[i-1][j]= color\n",
    "        fillcolor(the_list, i-1, j, real, color)\n",
    "        \n",
    "    if(checkDown(the_list, i, j, real)):\n",
    "        the_list[i+1][j]= color\n",
    "        fillcolor(the_list, i+1, j, real, color)\n",
    "    #print(checkDown(the_list, i, j, real))\n",
    "    \n",
    "    \n",
    "    \n",
    "        \n",
    "    \n",
    "    \n",
    "    \n",
    "    "
   ]
  },
  {
   "cell_type": "code",
   "execution_count": 61,
   "metadata": {},
   "outputs": [
    {
     "data": {
      "text/plain": [
       "[[1, 2, 10, 4, 4], [1, 2, 10, 10, 10], [1, 2, 4, 10, 10]]"
      ]
     },
     "execution_count": 61,
     "metadata": {},
     "output_type": "execute_result"
    }
   ],
   "source": [
    "a= [[1,2,3,4,4],[1,2,3,3,3],[1,2,4,3,3]]\n",
    "call(a, 0,2, 10)"
   ]
  },
  {
   "cell_type": "code",
   "execution_count": null,
   "metadata": {},
   "outputs": [],
   "source": []
  }
 ],
 "metadata": {
  "kernelspec": {
   "display_name": "Python 3",
   "language": "python",
   "name": "python3"
  },
  "language_info": {
   "codemirror_mode": {
    "name": "ipython",
    "version": 3
   },
   "file_extension": ".py",
   "mimetype": "text/x-python",
   "name": "python",
   "nbconvert_exporter": "python",
   "pygments_lexer": "ipython3",
   "version": "3.7.3"
  }
 },
 "nbformat": 4,
 "nbformat_minor": 2
}
