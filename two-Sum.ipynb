{
 "cells": [
  {
   "cell_type": "code",
   "execution_count": 5,
   "metadata": {},
   "outputs": [],
   "source": [
    "arr = [8,7,2,5,3,1]"
   ]
  },
  {
   "cell_type": "code",
   "execution_count": 3,
   "metadata": {},
   "outputs": [],
   "source": [
    "arr.sort()"
   ]
  },
  {
   "cell_type": "code",
   "execution_count": 4,
   "metadata": {},
   "outputs": [
    {
     "data": {
      "text/plain": [
       "[1, 2, 3, 5, 7, 8]"
      ]
     },
     "execution_count": 4,
     "metadata": {},
     "output_type": "execute_result"
    }
   ],
   "source": [
    "arr"
   ]
  },
  {
   "cell_type": "code",
   "execution_count": 6,
   "metadata": {},
   "outputs": [],
   "source": [
    "#O(nlogn)\n",
    "\n",
    "def twoSum(arr, req_sum):\n",
    "    arr.sort()\n",
    "    low_pt = 0\n",
    "    high_pt = len(arr)-1\n",
    "    \n",
    "    while(low_pt<high_pt):\n",
    "        if(arr[low_pt]+arr[high_pt] == req_sum):\n",
    "            return (low_pt, high_pt)\n",
    "        elif(arr[low_pt]+arr[high_pt] < req_sum):\n",
    "            low_pt+=1\n",
    "        else:\n",
    "            high_pt+=1\n",
    "    \n",
    "    "
   ]
  },
  {
   "cell_type": "code",
   "execution_count": 7,
   "metadata": {},
   "outputs": [
    {
     "data": {
      "text/plain": [
       "(1, 5)"
      ]
     },
     "execution_count": 7,
     "metadata": {},
     "output_type": "execute_result"
    }
   ],
   "source": [
    "twoSum(arr, 10)"
   ]
  },
  {
   "cell_type": "code",
   "execution_count": 14,
   "metadata": {},
   "outputs": [],
   "source": [
    "#O(n)\n",
    "def twoSum2(arr, req_sum):\n",
    "    sample_dict={}\n",
    "    \n",
    "    for i, item in enumerate(arr):\n",
    "        \n",
    "        print((req_sum - item), (req_sum - item) in sample_dict)\n",
    "        if((req_sum - item) in sample_dict):\n",
    "            return (i, sample_dict[req_sum - item]), sample_dict\n",
    "        sample_dict[item]=i"
   ]
  },
  {
   "cell_type": "code",
   "execution_count": 15,
   "metadata": {},
   "outputs": [
    {
     "name": "stdout",
     "output_type": "stream",
     "text": [
      "9 False\n",
      "8 False\n",
      "7 False\n",
      "5 False\n",
      "3 True\n"
     ]
    },
    {
     "data": {
      "text/plain": [
       "((4, 2), {1: 0, 2: 1, 3: 2, 5: 3})"
      ]
     },
     "execution_count": 15,
     "metadata": {},
     "output_type": "execute_result"
    }
   ],
   "source": [
    "twoSum2(arr, 10)"
   ]
  },
  {
   "cell_type": "code",
   "execution_count": null,
   "metadata": {},
   "outputs": [],
   "source": []
  }
 ],
 "metadata": {
  "kernelspec": {
   "display_name": "Python 3",
   "language": "python",
   "name": "python3"
  },
  "language_info": {
   "codemirror_mode": {
    "name": "ipython",
    "version": 3
   },
   "file_extension": ".py",
   "mimetype": "text/x-python",
   "name": "python",
   "nbconvert_exporter": "python",
   "pygments_lexer": "ipython3",
   "version": "3.7.3"
  }
 },
 "nbformat": 4,
 "nbformat_minor": 2
}
