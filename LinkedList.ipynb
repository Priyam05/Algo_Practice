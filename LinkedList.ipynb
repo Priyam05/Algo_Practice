{
 "cells": [
  {
   "cell_type": "code",
   "execution_count": 6,
   "metadata": {},
   "outputs": [],
   "source": [
    "class Node:\n",
    "    def __init__(self, data, next_node= None):\n",
    "        self.data = data\n",
    "        self.next_node= next_node\n",
    "    def getData(self):\n",
    "        return self.data\n",
    "    def getNextNode(self):\n",
    "        return self.next_node\n",
    "    def setData(self, data):\n",
    "        self.data = data\n",
    "    def setNextNode(self, node):\n",
    "        self.next_node = node"
   ]
  },
  {
   "cell_type": "code",
   "execution_count": 7,
   "metadata": {},
   "outputs": [],
   "source": [
    "myNode = Node(10)"
   ]
  },
  {
   "cell_type": "code",
   "execution_count": 8,
   "metadata": {},
   "outputs": [
    {
     "data": {
      "text/plain": [
       "10"
      ]
     },
     "execution_count": 8,
     "metadata": {},
     "output_type": "execute_result"
    }
   ],
   "source": [
    "myNode.getData()"
   ]
  },
  {
   "cell_type": "code",
   "execution_count": 11,
   "metadata": {},
   "outputs": [],
   "source": [
    "newNode = Node(11)"
   ]
  },
  {
   "cell_type": "code",
   "execution_count": 12,
   "metadata": {},
   "outputs": [],
   "source": [
    "myNode.setNextNode(newNode)"
   ]
  },
  {
   "cell_type": "code",
   "execution_count": 14,
   "metadata": {},
   "outputs": [
    {
     "data": {
      "text/plain": [
       "11"
      ]
     },
     "execution_count": 14,
     "metadata": {},
     "output_type": "execute_result"
    }
   ],
   "source": [
    "myNode.getNextNode().getData()"
   ]
  },
  {
   "cell_type": "code",
   "execution_count": 74,
   "metadata": {},
   "outputs": [],
   "source": [
    "class LinkedList:\n",
    "    def __init__(self, head=None):\n",
    "        self.head=head\n",
    "    \n",
    "    #Traverse the linked List\n",
    "    def printLL(self):\n",
    "        node = self.head\n",
    "        while(node):\n",
    "            print(node.getData())\n",
    "            node=node.getNextNode()\n",
    "    \n",
    "    #Add a link to the linked list\n",
    "    def addLink(self, node):\n",
    "        if(self.head==None):\n",
    "            self.head=node\n",
    "        \n",
    "        else:\n",
    "            curr_node = self.head\n",
    "            while(curr_node.getNextNode()):\n",
    "                curr_node = curr_node.getNextNode()\n",
    "            curr_node.setNextNode(node)\n",
    "        \n",
    "    #Get Length of Linked List\n",
    "    def getLength(self):\n",
    "        i=0\n",
    "        curr_node = self.head\n",
    "        while(curr_node):\n",
    "            i+=1\n",
    "            curr_node = curr_node.getNextNode()\n",
    "        return i\n",
    "    \n",
    "    #Delete a ith node from LL\n",
    "    def deleteLL(self, i):        \n",
    "        #Check if i is less than the length of the linked list\n",
    "        ll_length = self.getLength()\n",
    "        if(i>ll_length or i<1):\n",
    "            print(\"Not a valid input\")\n",
    "            \n",
    "        if(i==1):\n",
    "            self.head = self.head.getNextNode()\n",
    "        \n",
    "        elif(i == self.getLength()):\n",
    "            curr_node = self.head\n",
    "            while(curr_node.getNextNode().getNextNode()):\n",
    "                curr_node=curr_node.getNextNode()\n",
    "            curr_node.setNextNode(None)\n",
    "            \n",
    "        else:\n",
    "            curr_i = 1\n",
    "            curr_node = self.head\n",
    "            while(curr_i!= (i-1)):\n",
    "                curr_i+=1\n",
    "                curr_node = curr_node.getNextNode()\n",
    "            #We need to delete the nextnode of the curr_node\n",
    "            node_to_be_deleted = curr_node.getNextNode()\n",
    "            next_deleted = node_to_be_deleted.getNextNode()\n",
    "            curr_node.setNextNode(next_deleted)\n",
    "    \n",
    "    #Print Reverse Linked List\n",
    "    def reverseLL(self, curr_node=None):\n",
    "        if(curr_node == None):\n",
    "            curr_node=self.head\n",
    "        if(curr_node.getNextNode() != None):\n",
    "            self.reverseLL(curr_node.getNextNode())\n",
    "        print(curr_node.getData())\n",
    "    "
   ]
  },
  {
   "cell_type": "code",
   "execution_count": 75,
   "metadata": {},
   "outputs": [
    {
     "name": "stdout",
     "output_type": "stream",
     "text": [
      "None\n"
     ]
    }
   ],
   "source": [
    "myLL = LinkedList()\n",
    "print(myLL.head)"
   ]
  },
  {
   "cell_type": "code",
   "execution_count": 76,
   "metadata": {},
   "outputs": [],
   "source": [
    "for i in range(10):\n",
    "    myLL.addLink(Node(i))"
   ]
  },
  {
   "cell_type": "code",
   "execution_count": 77,
   "metadata": {},
   "outputs": [
    {
     "name": "stdout",
     "output_type": "stream",
     "text": [
      "0\n",
      "1\n",
      "2\n",
      "3\n",
      "4\n",
      "5\n",
      "6\n",
      "7\n",
      "8\n",
      "9\n"
     ]
    }
   ],
   "source": [
    "myLL.printLL()"
   ]
  },
  {
   "cell_type": "code",
   "execution_count": 67,
   "metadata": {},
   "outputs": [
    {
     "data": {
      "text/plain": [
       "10"
      ]
     },
     "execution_count": 67,
     "metadata": {},
     "output_type": "execute_result"
    }
   ],
   "source": [
    "myLL.getLength()"
   ]
  },
  {
   "cell_type": "code",
   "execution_count": 52,
   "metadata": {},
   "outputs": [],
   "source": [
    "myLL.deleteLL(5)"
   ]
  },
  {
   "cell_type": "code",
   "execution_count": 53,
   "metadata": {},
   "outputs": [
    {
     "name": "stdout",
     "output_type": "stream",
     "text": [
      "0\n",
      "1\n",
      "2\n",
      "3\n",
      "5\n",
      "6\n",
      "7\n",
      "8\n"
     ]
    }
   ],
   "source": [
    "myLL.printLL()"
   ]
  },
  {
   "cell_type": "code",
   "execution_count": 78,
   "metadata": {},
   "outputs": [
    {
     "name": "stdout",
     "output_type": "stream",
     "text": [
      "9\n",
      "8\n",
      "7\n",
      "6\n",
      "5\n",
      "4\n",
      "3\n",
      "2\n",
      "1\n",
      "0\n"
     ]
    }
   ],
   "source": [
    "myLL.reverseLL()"
   ]
  },
  {
   "cell_type": "code",
   "execution_count": null,
   "metadata": {},
   "outputs": [],
   "source": []
  }
 ],
 "metadata": {
  "kernelspec": {
   "display_name": "Python 3",
   "language": "python",
   "name": "python3"
  },
  "language_info": {
   "codemirror_mode": {
    "name": "ipython",
    "version": 3
   },
   "file_extension": ".py",
   "mimetype": "text/x-python",
   "name": "python",
   "nbconvert_exporter": "python",
   "pygments_lexer": "ipython3",
   "version": "3.7.3"
  }
 },
 "nbformat": 4,
 "nbformat_minor": 2
}
