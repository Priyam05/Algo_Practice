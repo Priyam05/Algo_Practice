{
 "cells": [
  {
   "cell_type": "code",
   "execution_count": 19,
   "metadata": {},
   "outputs": [],
   "source": [
    "def initializeDomain(n_Queens):\n",
    "    #Note that each queen will have n locations in their domain. Lets name each queen 0,1,2,.. as dict keys\n",
    "    #Therefore for Queen '0', domain: (0,1,2,3,...n-1) Note that adding key value gives the locations (0,0),(1,0),..\n",
    "    \n",
    "    domain_q = [[i for i in range(n_Queens)] for j in range(n_Queens)]\n",
    "            \n",
    "    return domain_q"
   ]
  },
  {
   "cell_type": "code",
   "execution_count": 20,
   "metadata": {},
   "outputs": [
    {
     "data": {
      "text/plain": [
       "[[0, 1, 2], [0, 1, 2], [0, 1, 2]]"
      ]
     },
     "execution_count": 20,
     "metadata": {},
     "output_type": "execute_result"
    }
   ],
   "source": [
    "initializeDomain(3)"
   ]
  },
  {
   "cell_type": "code",
   "execution_count": 35,
   "metadata": {},
   "outputs": [
    {
     "data": {
      "text/plain": [
       "[[0, 1, 2, 3], [0, 1, 2], [0, 1, 2, 3], [0, 1, 2, 3]]"
      ]
     },
     "execution_count": 35,
     "metadata": {},
     "output_type": "execute_result"
    }
   ],
   "source": [
    "def removeDiag(the_list, i,j):\n",
    "    n=len(the_list)\n",
    "    row=i\n",
    "    for col in range(j+1,n):\n",
    "        row+=1\n",
    "        if(row < n and col<n):\n",
    "            the_list[row].pop(col)\n",
    "    return the_list\n",
    "a=[[0,1,2,3],[0,1,2,3],[0,1,2,3],[0,1,2,3]]            \n",
    "removeDiag(a,0,2)        "
   ]
  },
  {
   "cell_type": "code",
   "execution_count": 39,
   "metadata": {},
   "outputs": [],
   "source": [
    "def removeRow(the_list, i, j):\n",
    "    n=len(the_list)\n",
    "    for queen in range(i+1, n):\n",
    "        the_list[queen].pop(j)\n",
    "a=[[0,1,2,3],[0,1,2,3],[0,1,2,3],[0,1,2,3]]           \n",
    "removeRow(a,0,2)        "
   ]
  },
  {
   "cell_type": "code",
   "execution_count": 40,
   "metadata": {},
   "outputs": [
    {
     "data": {
      "text/plain": [
       "[[0, 1, 2, 3], [0, 1, 3], [0, 1, 3], [0, 1, 3]]"
      ]
     },
     "execution_count": 40,
     "metadata": {},
     "output_type": "execute_result"
    }
   ],
   "source": [
    "a"
   ]
  },
  {
   "cell_type": "code",
   "execution_count": 41,
   "metadata": {},
   "outputs": [],
   "source": [
    "def checkConstraints(Queen, row, domain_q):\n",
    "    removeDiag(Queen, row, domain_q)\n",
    "    removeRow(Queen, row, domain_q)\n",
    "    return domain_q\n",
    "    \n",
    "    "
   ]
  },
  {
   "cell_type": "code",
   "execution_count": null,
   "metadata": {},
   "outputs": [],
   "source": [
    "def N_Queen(n, domain=None):\n",
    "    if(domain==None):\n",
    "        initializeDomain(n)\n",
    "    \n",
    "      "
   ]
  }
 ],
 "metadata": {
  "kernelspec": {
   "display_name": "Python 3",
   "language": "python",
   "name": "python3"
  },
  "language_info": {
   "codemirror_mode": {
    "name": "ipython",
    "version": 3
   },
   "file_extension": ".py",
   "mimetype": "text/x-python",
   "name": "python",
   "nbconvert_exporter": "python",
   "pygments_lexer": "ipython3",
   "version": "3.7.3"
  }
 },
 "nbformat": 4,
 "nbformat_minor": 2
}
