{
 "cells": [
  {
   "cell_type": "code",
   "execution_count": 22,
   "metadata": {},
   "outputs": [
    {
     "data": {
      "text/plain": [
       "True"
      ]
     },
     "execution_count": 22,
     "metadata": {},
     "output_type": "execute_result"
    }
   ],
   "source": [
    "a=\"{[()]}()\"\n",
    "checkBalance(a)"
   ]
  },
  {
   "cell_type": "code",
   "execution_count": 18,
   "metadata": {},
   "outputs": [],
   "source": [
    "def checkBalance(strSample):\n",
    "    checker = []\n",
    "    \n",
    "    for k in strSample:\n",
    "        if(k in ['{','[','(']):\n",
    "            checker.append(k)\n",
    "        elif(len(checker)==0):\n",
    "            return False\n",
    "        else:\n",
    "            last = checker.pop()\n",
    "            if(not((k==')' and last==\"(\") or (k==']' and last==\"[\") or (k=='}' and last==\"{\"))):\n",
    "                return False\n",
    "                \n",
    "               \n",
    "    \n",
    "    if(len(checker)!=0):\n",
    "        return False\n",
    "    \n",
    "    return True\n",
    "            \n",
    "            \n",
    "        "
   ]
  }
 ],
 "metadata": {
  "kernelspec": {
   "display_name": "Python 3",
   "language": "python",
   "name": "python3"
  },
  "language_info": {
   "codemirror_mode": {
    "name": "ipython",
    "version": 3
   },
   "file_extension": ".py",
   "mimetype": "text/x-python",
   "name": "python",
   "nbconvert_exporter": "python",
   "pygments_lexer": "ipython3",
   "version": "3.7.3"
  }
 },
 "nbformat": 4,
 "nbformat_minor": 2
}
