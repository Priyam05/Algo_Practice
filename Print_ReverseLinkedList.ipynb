{
 "cells": [
  {
   "cell_type": "code",
   "execution_count": 19,
   "metadata": {},
   "outputs": [],
   "source": [
    "class Node:\n",
    "    def __init__(self, next_node=None, val=None):\n",
    "        self.next= next_node\n",
    "        self.val = val\n",
    "    \n",
    "    def setNext(self, node):\n",
    "        self.next = node\n",
    "    def setVal(self, val):\n",
    "        self.val = val\n",
    "    def getNext(self):\n",
    "        return self.next\n",
    "    def getVal(self):\n",
    "        return self.val\n",
    "    "
   ]
  },
  {
   "cell_type": "code",
   "execution_count": 20,
   "metadata": {},
   "outputs": [],
   "source": [
    "class SLL:\n",
    "    def __init__(self, head=None):\n",
    "        self.head=head\n",
    "        \n",
    "    def addVal(self, val):\n",
    "        node = Node()\n",
    "        node.setVal(val)\n",
    "        if(self.head == None):\n",
    "            self.head=node\n",
    "        else:\n",
    "            curr_node = self.head\n",
    "            while(curr_node.getNext()):\n",
    "                curr_node=curr_node.getNext()\n",
    "            curr_node.setNext(node)\n",
    "    def getHead(self):\n",
    "        return self.head\n",
    "    def printList(self):\n",
    "        curr_node = self.head\n",
    "        while(curr_node):\n",
    "            print(curr_node.getVal())\n",
    "            curr_node = curr_node.getNext()"
   ]
  },
  {
   "cell_type": "code",
   "execution_count": 21,
   "metadata": {},
   "outputs": [],
   "source": [
    "test = SLL()"
   ]
  },
  {
   "cell_type": "code",
   "execution_count": 22,
   "metadata": {},
   "outputs": [],
   "source": [
    "for i in range(10):\n",
    "    test.addVal(i)"
   ]
  },
  {
   "cell_type": "code",
   "execution_count": 23,
   "metadata": {},
   "outputs": [
    {
     "name": "stdout",
     "output_type": "stream",
     "text": [
      "0\n",
      "1\n",
      "2\n",
      "3\n",
      "4\n",
      "5\n",
      "6\n",
      "7\n",
      "8\n",
      "9\n"
     ]
    }
   ],
   "source": [
    "test.printList()"
   ]
  },
  {
   "cell_type": "code",
   "execution_count": 33,
   "metadata": {},
   "outputs": [],
   "source": [
    "def reverse_LL(the_list, node=None):\n",
    "    if(not(node)):\n",
    "        node = the_list.getHead()\n",
    "    if(node.getNext()):\n",
    "        reverse_LL(the_list,node.getNext())\n",
    "    print(node.getVal())"
   ]
  },
  {
   "cell_type": "code",
   "execution_count": 34,
   "metadata": {},
   "outputs": [
    {
     "name": "stdout",
     "output_type": "stream",
     "text": [
      "9\n",
      "8\n",
      "7\n",
      "6\n",
      "5\n",
      "4\n",
      "3\n",
      "2\n",
      "1\n",
      "0\n"
     ]
    }
   ],
   "source": [
    "reverse_LL(test)"
   ]
  },
  {
   "cell_type": "code",
   "execution_count": null,
   "metadata": {},
   "outputs": [],
   "source": []
  }
 ],
 "metadata": {
  "kernelspec": {
   "display_name": "Python 3",
   "language": "python",
   "name": "python3"
  },
  "language_info": {
   "codemirror_mode": {
    "name": "ipython",
    "version": 3
   },
   "file_extension": ".py",
   "mimetype": "text/x-python",
   "name": "python",
   "nbconvert_exporter": "python",
   "pygments_lexer": "ipython3",
   "version": "3.7.3"
  }
 },
 "nbformat": 4,
 "nbformat_minor": 2
}
