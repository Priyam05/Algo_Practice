{
 "cells": [
  {
   "cell_type": "code",
   "execution_count": 1,
   "metadata": {},
   "outputs": [],
   "source": [
    "class Leaf:\n",
    "    def __init__(self, left=None, right=None, data = None):\n",
    "        self.data = data\n",
    "        self.left = left\n",
    "        self.right = right\n",
    "    \n",
    "    def setRight(self, node):\n",
    "        self.right = node\n",
    "    \n",
    "    def setLeft(self, node):\n",
    "        self.left = node\n",
    "    \n",
    "    def getData(self):\n",
    "        return self.data\n",
    "    \n",
    "    def setData(self, data):\n",
    "        self.data = data\n",
    "        \n",
    "    def getRight(self):\n",
    "        return self.right\n",
    "    \n",
    "    def getLeft(self):\n",
    "        return self.left"
   ]
  },
  {
   "cell_type": "code",
   "execution_count": 2,
   "metadata": {},
   "outputs": [
    {
     "name": "stdout",
     "output_type": "stream",
     "text": [
      "6\n"
     ]
    }
   ],
   "source": [
    "sample = Leaf()\n",
    "sample.setData(2)\n",
    "sample.getData()\n",
    "import random \n",
    "print(random.randint(1,10))"
   ]
  },
  {
   "cell_type": "code",
   "execution_count": 40,
   "metadata": {},
   "outputs": [],
   "source": [
    "class Tree:\n",
    "    unival_counter=0\n",
    "    def __init__(self, depth=0, root=None):\n",
    "        if(root == None):\n",
    "            self.root = Leaf()\n",
    "        else:\n",
    "            self.root=root\n",
    "        self.depth = depth\n",
    "    \n",
    "    def getRoot(self):\n",
    "        return self.root\n",
    "    \n",
    "    #Build tree of given depth with random numbers \n",
    "    def buildTree(self, node=None, curr_depth=0):  #random.randint(1,10)\n",
    "        if(node==None):\n",
    "            node=self.root\n",
    "        #Assign data to the node\n",
    "        node.setData(random.randint(1,1))\n",
    "        if(curr_depth<self.depth):\n",
    "            node.setLeft(Leaf())\n",
    "            node.setRight(Leaf())\n",
    "            self.buildTree(node.getLeft(), curr_depth+1)\n",
    "            self.buildTree(node.getRight(), curr_depth+1)\n",
    "        \n",
    "    \n",
    "    def callPrintTree(self):\n",
    "        dictLevel={}\n",
    "        self.printTree(dictLevel)\n",
    "        return dictLevel\n",
    "        \n",
    "    \n",
    "    def printTree(self, dictLevel, curr_depth=0,node=None):\n",
    "        #We will print until we find a leaf whose next nodes are not None        \n",
    "        if(node==None):\n",
    "            node = self.root\n",
    "        \n",
    "        if(curr_depth not in dictLevel):\n",
    "            dictLevel[curr_depth]=[]\n",
    "        dictLevel[curr_depth].append(node.getData())\n",
    "        \n",
    "        #Fill the data at each level\n",
    "        if(node.getRight() != None and node.getLeft()!=None):\n",
    "            self.printTree(dictLevel, curr_depth+1, node.getLeft())\n",
    "            self.printTree(dictLevel, curr_depth+1, node.getRight())\n",
    "    \n",
    "    \n",
    "    def inOrder(self, node): #Left-Root-Right\n",
    "        \n",
    "        if(node):\n",
    "            self.inOrder(node.getLeft())\n",
    "            print(node.getData())\n",
    "            self.inOrder(node.getRight())\n",
    "    \n",
    "    def preOrder(self, node): #Root-Left-Right\n",
    "        \n",
    "        if(node):\n",
    "            print(node.getData())\n",
    "            self.preOrder(node.getLeft())\n",
    "            self.preOrder(node.getRight())\n",
    "    \n",
    "    def postOrder(self, node): #Left-Right-Root\n",
    "        \n",
    "        if(node):\n",
    "            self.postOrder(node.getLeft())\n",
    "            self.postOrder(node.getRight())\n",
    "            print(node.getData())\n",
    "    \n",
    "\n",
    "        \n",
    "    def BFS(self, node=None):\n",
    "        from collections import deque\n",
    "        fringe = deque()\n",
    "        if(node==None):\n",
    "            node=self.root\n",
    "        \n",
    "        fringe.append(node)\n",
    "        \n",
    "        while(len(fringe)!=0):\n",
    "            close = fringe.popleft()\n",
    "            print(close.getData())\n",
    "            \n",
    "            if(close.getLeft()!=None):\n",
    "                fringe.append(close.getLeft())\n",
    "            \n",
    "            if(close.getRight()!=None):\n",
    "                fringe.append(close.getRight())\n",
    "    \n",
    "#Below three functions work in unison for finding number of unival tree  \n",
    "    def call_unival(self):\n",
    "        self.Traverse(self.root)\n",
    "        return self.unival_counter\n",
    "    \n",
    "    def checker(self, node):\n",
    "        if((node.getLeft()==None and node.getRight()==None) or (node.getData()==node.getLeft().getData() and node.getData()==node.getRight().getData())):\n",
    "            self.unival_counter+=1\n",
    "            return True\n",
    "        else:\n",
    "            return False\n",
    "    \n",
    "    def Traverse(self, node, lf=False, rf=False):\n",
    "        \n",
    "        if(node.getLeft()!=None and node.getRight()!=None):\n",
    "            lf = self.Traverse(node.getLeft())\n",
    "            rf = self.Traverse(node.getRight())\n",
    "        \n",
    "        if((lf and rf) or (node.getLeft()==None and node.getRight()==None)):\n",
    "            return self.checker(node)\n",
    "            \n",
    "    #Check if two trees are identical\n",
    "    \n",
    "    #We can tackle this with a BFS approach\n",
    "    def checkIdentical(self, tree2):\n",
    "        from collections import deque\n",
    "        if(self.depth != tree2.depth):\n",
    "            return False\n",
    "        \n",
    "        else:\n",
    "            fringe1 = deque()\n",
    "            fringe2=deque()\n",
    "            fringe1.append(self.getRoot())\n",
    "            fringe2.append(tree2.getRoot())\n",
    "            \n",
    "            \n",
    "            while(len(fringe1)!=0 or len(fringe2)!=0):\n",
    "                node1 = fringe1.popleft()\n",
    "                node2= fringe2.popleft()\n",
    "                if(node1.getData() == node2.getData()):\n",
    "                    if(node1.getLeft()!=None and node1.getRight()!=None):\n",
    "                        fringe1.append(node1.getLeft())\n",
    "                        fringe1.append(node1.getRight())\n",
    "                    if(node2.getLeft()!=None and node2.getRight()!=None):\n",
    "                        fringe2.append(node2.getLeft())\n",
    "                        fringe2.append(node2.getRight())\n",
    "                else:\n",
    "                    return False\n",
    "                \n",
    "            if(len(fringe1)==0 and len(fringe2)==0):\n",
    "                return True\n",
    "            \n",
    "            else:\n",
    "                return False\n",
    "        \n",
    "    def checkIdenticalRecur(self, node1, node2): \n",
    "        if(node1!=None and node2!=None):\n",
    "            \n",
    "            lf = self.checkIdenticalRecur(node1.getLeft(), node2.getLeft())\n",
    "            rf = self.checkIdenticalRecur(node1.getRight(), node2.getRight())\n",
    "            \n",
    "            if(node1.getData()==node2.getData() and lf and rf):\n",
    "                return True\n",
    "            else:\n",
    "                return False\n",
    "        elif(node1==None and node2==None):\n",
    "            return True\n",
    "        else:\n",
    "            return False\n",
    "    \n",
    "    def checkIdenticalRecur2(self, node1, node2): #Checks from top to bottom\n",
    "        if(node1 == None and node2==None):\n",
    "            return True\n",
    "        \n",
    "        elif((node1 and node2) and (node1.getData()==node2.getData()) and (self.checkIdenticalRecur2(node1.getLeft(), node2.getLeft())) and self.checkIdenticalRecur2(node1.getRight(), node2.getRight())):\n",
    "            return True\n",
    "        else: \n",
    "            return False\n",
    "    \n",
    "    #Simple function to get the height of the tree\n",
    "    def getHeight(self,node, curr_depth=0):\n",
    "        if(node):\n",
    "            curr_depth_l = self.getHeight(node.getLeft(), curr_depth+1)\n",
    "            curr_depth_r = self.getHeight(node.getRight(), curr_depth+1)\n",
    "        else:\n",
    "            return curr_depth-1\n",
    "        \n",
    "        return max(curr_depth_l, curr_depth_r)\n",
    "    \n",
    "    def getHeight2(self, node):\n",
    "        \n",
    "        if(node==None):\n",
    "            return 0\n",
    "        \n",
    "        else:\n",
    "            return 1+max(self.getHeight2(node.getLeft()), self.getHeight2(node.getRight()))\n",
    "    \n",
    "    \n",
    "    #Spiral Traversal\n",
    "    def spiral(self, node):\n",
    "        from collections import deque\n",
    "        fringe = deque()\n",
    "        fringe.append(node)\n",
    "        i=0\n",
    "        while(len(fringe)!=0):\n",
    "            #Alternately append left - pop right, pop left-append right\n",
    "            \n",
    "        \n",
    "        \n",
    "        \n",
    "        \n",
    "                \n",
    "            \n",
    "            \n",
    "        \n",
    "           \n",
    "        \n",
    "        \n",
    "        \n",
    "    \n",
    "                \n",
    "\n",
    "        \n",
    "        "
   ]
  },
  {
   "cell_type": "code",
   "execution_count": 41,
   "metadata": {},
   "outputs": [],
   "source": [
    "sample1=Tree(2)\n",
    "sample2=Tree(3)"
   ]
  },
  {
   "cell_type": "code",
   "execution_count": 42,
   "metadata": {},
   "outputs": [],
   "source": [
    "sample1.buildTree()\n",
    "sample2.buildTree()"
   ]
  },
  {
   "cell_type": "code",
   "execution_count": 43,
   "metadata": {},
   "outputs": [],
   "source": [
    "dictsample1 = sample1.callPrintTree()\n",
    "dictsample2 = sample2.callPrintTree()"
   ]
  },
  {
   "cell_type": "code",
   "execution_count": 44,
   "metadata": {},
   "outputs": [
    {
     "data": {
      "text/plain": [
       "{0: [1], 1: [1, 1], 2: [1, 1, 1, 1]}"
      ]
     },
     "execution_count": 44,
     "metadata": {},
     "output_type": "execute_result"
    }
   ],
   "source": [
    "dictsample1"
   ]
  },
  {
   "cell_type": "code",
   "execution_count": 45,
   "metadata": {},
   "outputs": [
    {
     "data": {
      "text/plain": [
       "{0: [1], 1: [1, 1], 2: [1, 1, 1, 1], 3: [1, 1, 1, 1, 1, 1, 1, 1]}"
      ]
     },
     "execution_count": 45,
     "metadata": {},
     "output_type": "execute_result"
    }
   ],
   "source": [
    "dictsample2"
   ]
  },
  {
   "cell_type": "code",
   "execution_count": 50,
   "metadata": {},
   "outputs": [
    {
     "data": {
      "text/plain": [
       "2"
      ]
     },
     "execution_count": 50,
     "metadata": {},
     "output_type": "execute_result"
    }
   ],
   "source": [
    "sample1.getHeight(sample1.getRoot())"
   ]
  },
  {
   "cell_type": "code",
   "execution_count": 31,
   "metadata": {},
   "outputs": [
    {
     "data": {
      "text/plain": [
       "False"
      ]
     },
     "execution_count": 31,
     "metadata": {},
     "output_type": "execute_result"
    }
   ],
   "source": [
    "sample1.checkIdentical(sample2)\n"
   ]
  },
  {
   "cell_type": "code",
   "execution_count": 100,
   "metadata": {},
   "outputs": [
    {
     "data": {
      "text/plain": [
       "False"
      ]
     },
     "execution_count": 100,
     "metadata": {},
     "output_type": "execute_result"
    }
   ],
   "source": [
    "sample1.checkIdenticalRecur(sample1.getRoot(), sample2.getRoot())"
   ]
  },
  {
   "cell_type": "code",
   "execution_count": 101,
   "metadata": {},
   "outputs": [
    {
     "data": {
      "text/plain": [
       "False"
      ]
     },
     "execution_count": 101,
     "metadata": {},
     "output_type": "execute_result"
    }
   ],
   "source": [
    "sample1.checkIdenticalRecur2(sample1.getRoot(), sample2.getRoot())"
   ]
  },
  {
   "cell_type": "code",
   "execution_count": 159,
   "metadata": {},
   "outputs": [
    {
     "name": "stdout",
     "output_type": "stream",
     "text": [
      "3\n",
      "3\n",
      "10\n",
      "3\n",
      "5\n",
      "9\n",
      "1\n"
     ]
    }
   ],
   "source": [
    "sample.preOrder(sample.getRoot())"
   ]
  },
  {
   "cell_type": "code",
   "execution_count": 160,
   "metadata": {},
   "outputs": [
    {
     "name": "stdout",
     "output_type": "stream",
     "text": [
      "10\n",
      "3\n",
      "3\n",
      "9\n",
      "1\n",
      "5\n",
      "3\n"
     ]
    }
   ],
   "source": [
    "sample.postOrder(sample.getRoot())"
   ]
  },
  {
   "cell_type": "code",
   "execution_count": 48,
   "metadata": {},
   "outputs": [],
   "source": [
    "def add(n=0,ans=0):\n",
    "        if(n<10):\n",
    "            ans+=n\n",
    "            #print(ans)\n",
    "            ans = add(n+1, ans)\n",
    "        return ans\n",
    "            "
   ]
  },
  {
   "cell_type": "code",
   "execution_count": null,
   "metadata": {},
   "outputs": [],
   "source": []
  }
 ],
 "metadata": {
  "kernelspec": {
   "display_name": "Python 3",
   "language": "python",
   "name": "python3"
  },
  "language_info": {
   "codemirror_mode": {
    "name": "ipython",
    "version": 3
   },
   "file_extension": ".py",
   "mimetype": "text/x-python",
   "name": "python",
   "nbconvert_exporter": "python",
   "pygments_lexer": "ipython3",
   "version": "3.7.3"
  }
 },
 "nbformat": 4,
 "nbformat_minor": 2
}
