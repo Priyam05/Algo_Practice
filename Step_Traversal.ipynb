{
 "cells": [
  {
   "cell_type": "code",
   "execution_count": 65,
   "metadata": {},
   "outputs": [],
   "source": [
    "global counter\n",
    "counter = 0\n",
    "\n",
    "def traverse(N):\n",
    "    if(N==0):\n",
    "        global counter\n",
    "        counter+=1\n",
    "    elif(N>0):\n",
    "        traverse(N-1)\n",
    "        traverse(N-2)\n",
    "        \n",
    "        \n",
    "        "
   ]
  },
  {
   "cell_type": "code",
   "execution_count": 66,
   "metadata": {},
   "outputs": [],
   "source": [
    "traverse(30)"
   ]
  },
  {
   "cell_type": "code",
   "execution_count": 67,
   "metadata": {},
   "outputs": [
    {
     "data": {
      "text/plain": [
       "1346269"
      ]
     },
     "execution_count": 67,
     "metadata": {},
     "output_type": "execute_result"
    }
   ],
   "source": [
    "counter"
   ]
  },
  {
   "cell_type": "code",
   "execution_count": 63,
   "metadata": {},
   "outputs": [],
   "source": [
    "counter = 0\n",
    "def dyn_traverse(N, dict_Step=None):\n",
    "    global counter\n",
    "    if(dict_Step==None):\n",
    "        dict_Step = {}\n",
    "    \n",
    "    if(N==0):        \n",
    "        counter+=1\n",
    "        return 1\n",
    "    if(N<0):\n",
    "        return 0\n",
    "    \n",
    "    if(N not in dict_Step):\n",
    "        ways_1 = dyn_traverse(N-1, dict_Step)\n",
    "        ways_2 = dyn_traverse(N-2, dict_Step)\n",
    "        #print(ways_1, ways_2,N)\n",
    "        dict_Step[N] = ways_1 + ways_2\n",
    "        return ways_1 + ways_2\n",
    "    else:\n",
    "        \n",
    "        counter+= dict_Step[N]\n",
    "        return dict_Step[N]\n",
    "    \n",
    "    "
   ]
  },
  {
   "cell_type": "code",
   "execution_count": 64,
   "metadata": {},
   "outputs": [
    {
     "data": {
      "text/plain": [
       "20365011074"
      ]
     },
     "execution_count": 64,
     "metadata": {},
     "output_type": "execute_result"
    }
   ],
   "source": [
    "dyn_traverse(50)"
   ]
  },
  {
   "cell_type": "code",
   "execution_count": null,
   "metadata": {},
   "outputs": [],
   "source": []
  }
 ],
 "metadata": {
  "kernelspec": {
   "display_name": "Python 3",
   "language": "python",
   "name": "python3"
  },
  "language_info": {
   "codemirror_mode": {
    "name": "ipython",
    "version": 3
   },
   "file_extension": ".py",
   "mimetype": "text/x-python",
   "name": "python",
   "nbconvert_exporter": "python",
   "pygments_lexer": "ipython3",
   "version": "3.7.3"
  }
 },
 "nbformat": 4,
 "nbformat_minor": 2
}
