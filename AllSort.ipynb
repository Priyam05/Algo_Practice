{
 "cells": [
  {
   "cell_type": "code",
   "execution_count": 34,
   "metadata": {},
   "outputs": [],
   "source": [
    "#O(n^2).... n-1 comparisons for iteration with n elements....(n-1)+(n-2)+....+2+1 .... \n",
    "def SelectionSort(the_list):\n",
    "    for i, item in enumerate(the_list):\n",
    "        min_item = item\n",
    "        min_index=i\n",
    "        #print(i,item)\n",
    "        for j,sub_item in enumerate(the_list[i+1:]):\n",
    "            if(sub_item<min_item):\n",
    "                min_item=sub_item\n",
    "                min_index=j+i+1\n",
    "        #Swap\n",
    "        #print(min_index, min_item)\n",
    "        the_list[min_index]= the_list[i]\n",
    "        the_list[i]=min_item\n",
    "        #print(the_list)\n",
    "            \n",
    "        "
   ]
  },
  {
   "cell_type": "code",
   "execution_count": 35,
   "metadata": {},
   "outputs": [],
   "source": [
    "import random\n",
    "the_list = [random.randint(1,30) for i in range(10)]"
   ]
  },
  {
   "cell_type": "code",
   "execution_count": 36,
   "metadata": {},
   "outputs": [
    {
     "data": {
      "text/plain": [
       "[10, 18, 14, 4, 15, 5, 8, 23, 11, 7]"
      ]
     },
     "execution_count": 36,
     "metadata": {},
     "output_type": "execute_result"
    }
   ],
   "source": [
    "the_list"
   ]
  },
  {
   "cell_type": "code",
   "execution_count": 37,
   "metadata": {},
   "outputs": [],
   "source": [
    "SelectionSort(the_list)"
   ]
  },
  {
   "cell_type": "code",
   "execution_count": 38,
   "metadata": {},
   "outputs": [
    {
     "data": {
      "text/plain": [
       "[4, 5, 7, 8, 10, 11, 14, 15, 18, 23]"
      ]
     },
     "execution_count": 38,
     "metadata": {},
     "output_type": "execute_result"
    }
   ],
   "source": [
    "the_list"
   ]
  },
  {
   "cell_type": "code",
   "execution_count": 46,
   "metadata": {},
   "outputs": [],
   "source": [
    "#Bubble Sort... O(n^2)\n",
    "def BubbleSort(the_list):\n",
    "    span= len(the_list)-1\n",
    "    \n",
    "    while(span>0):\n",
    "    \n",
    "        for i, item in enumerate(the_list[0:span]):\n",
    "            if(the_list[i+1]<the_list[i]):\n",
    "                temp = the_list[i]\n",
    "                the_list[i]=the_list[i+1]\n",
    "                the_list[i+1]=temp\n",
    "        span-=1\n",
    "        "
   ]
  },
  {
   "cell_type": "code",
   "execution_count": 47,
   "metadata": {},
   "outputs": [],
   "source": [
    "import random\n",
    "the_list = [random.randint(1,30) for i in range(10)]"
   ]
  },
  {
   "cell_type": "code",
   "execution_count": 48,
   "metadata": {},
   "outputs": [
    {
     "data": {
      "text/plain": [
       "[21, 3, 25, 16, 2, 28, 18, 10, 8, 19]"
      ]
     },
     "execution_count": 48,
     "metadata": {},
     "output_type": "execute_result"
    }
   ],
   "source": [
    "the_list"
   ]
  },
  {
   "cell_type": "code",
   "execution_count": 49,
   "metadata": {},
   "outputs": [],
   "source": [
    "BubbleSort(the_list)"
   ]
  },
  {
   "cell_type": "code",
   "execution_count": 50,
   "metadata": {},
   "outputs": [
    {
     "data": {
      "text/plain": [
       "[2, 3, 8, 10, 16, 18, 19, 21, 25, 28]"
      ]
     },
     "execution_count": 50,
     "metadata": {},
     "output_type": "execute_result"
    }
   ],
   "source": [
    "the_list"
   ]
  },
  {
   "cell_type": "code",
   "execution_count": 96,
   "metadata": {},
   "outputs": [],
   "source": [
    "#Insertion Sort\n",
    "def InsertionSort(the_list):\n",
    "    for i, item in enumerate(the_list):\n",
    "        \n",
    "        j=i-1\n",
    "        \n",
    "        while(j>=0 and item<the_list[j]):\n",
    "            the_list[j+1]=the_list[j]\n",
    "            j-=1\n",
    "        the_list[j+1] = item\n",
    "        \n",
    "            \n",
    "                \n",
    "                \n",
    "                \n",
    "            "
   ]
  },
  {
   "cell_type": "code",
   "execution_count": 97,
   "metadata": {},
   "outputs": [
    {
     "data": {
      "text/plain": [
       "[13, 2, 4, 22, 20, 23, 8, 26, 13, 13]"
      ]
     },
     "execution_count": 97,
     "metadata": {},
     "output_type": "execute_result"
    }
   ],
   "source": [
    "the_list = [random.randint(1,30) for i in range(10)]\n",
    "the_list"
   ]
  },
  {
   "cell_type": "code",
   "execution_count": 98,
   "metadata": {},
   "outputs": [],
   "source": [
    "InsertionSort(the_list)"
   ]
  },
  {
   "cell_type": "code",
   "execution_count": 99,
   "metadata": {},
   "outputs": [
    {
     "data": {
      "text/plain": [
       "[2, 4, 8, 13, 13, 13, 20, 22, 23, 26]"
      ]
     },
     "execution_count": 99,
     "metadata": {},
     "output_type": "execute_result"
    }
   ],
   "source": [
    "the_list"
   ]
  },
  {
   "cell_type": "code",
   "execution_count": 10,
   "metadata": {},
   "outputs": [],
   "source": [
    "#Merge Sort\n",
    "\n",
    "#1st step: Merge two sorted arrays: Max Number of comparisons mxn\n",
    "#Its job is to sort the list given that the list is sorted from p-> q and q+1->.r\n",
    "def merge_sorted(the_list, p,q,r):\n",
    "    the_list1= the_list[p:q+1]\n",
    "    the_list2 =the_list[q+1:r+1]\n",
    "    \n",
    "    m= 0\n",
    "    n= 0\n",
    "    k= p\n",
    "    \n",
    "    while(m< len(the_list1) and n<len(the_list2)):\n",
    "        \n",
    "        if(the_list1[m] <= the_list2[n]):\n",
    "            the_list[k]=the_list1[m]\n",
    "            m+=1\n",
    "            k+=1\n",
    "        else:\n",
    "            the_list[k] = the_list2[n]\n",
    "            n+=1\n",
    "            k+=1\n",
    "    \n",
    "    if(m<len(the_list1)):\n",
    "        the_list[k:r+1]=the_list1[m:]\n",
    "    if(n<len(the_list2)):\n",
    "        the_list[k:r+1] = the_list2[n:]\n",
    "        \n",
    "            \n",
    "            \n",
    "            \n",
    "            \n",
    "    \n",
    "\n",
    "\n"
   ]
  },
  {
   "cell_type": "code",
   "execution_count": 11,
   "metadata": {},
   "outputs": [],
   "source": [
    "sample = [100, 1,2,5,4,6,7]\n",
    "merge_sorted(sample, 1,3,6)"
   ]
  },
  {
   "cell_type": "code",
   "execution_count": 12,
   "metadata": {},
   "outputs": [
    {
     "data": {
      "text/plain": [
       "[100, 1, 2, 4, 5, 6, 7]"
      ]
     },
     "execution_count": 12,
     "metadata": {},
     "output_type": "execute_result"
    }
   ],
   "source": [
    "sample\n"
   ]
  },
  {
   "cell_type": "code",
   "execution_count": 13,
   "metadata": {},
   "outputs": [],
   "source": [
    "def merge(the_list, p=None, r=None):\n",
    "    \n",
    "    if(p==None):\n",
    "        p=0\n",
    "    if(r==None):\n",
    "        r= len(the_list)\n",
    "    middle = int((p+r)/2)\n",
    "    \n",
    "    #We will keep on dividing until we reach the bottom of the tree ie till p<r. At bottom p=r\n",
    "    if(p<r):\n",
    "        merge(the_list, p, middle)\n",
    "        merge(the_list, middle+1, r)\n",
    "        merge_sorted(the_list, p,middle,r)\n",
    "    "
   ]
  },
  {
   "cell_type": "code",
   "execution_count": 18,
   "metadata": {},
   "outputs": [],
   "source": [
    "sample=[1,2,5,500,4,6,7]\n",
    "merge(sample)"
   ]
  },
  {
   "cell_type": "code",
   "execution_count": 19,
   "metadata": {},
   "outputs": [
    {
     "data": {
      "text/plain": [
       "[1, 2, 4, 5, 6, 7, 500]"
      ]
     },
     "execution_count": 19,
     "metadata": {},
     "output_type": "execute_result"
    }
   ],
   "source": [
    "sample"
   ]
  },
  {
   "cell_type": "markdown",
   "metadata": {},
   "source": [
    "## Quick Sort algorithm"
   ]
  },
  {
   "cell_type": "code",
   "execution_count": 61,
   "metadata": {},
   "outputs": [],
   "source": [
    "def partition(the_list, start, end):\n",
    "    #We will be considering last element as pivot position\n",
    "    i= start-1\n",
    "    pivot = the_list[end]\n",
    "    for j in range(start,end,1):\n",
    "        #print(j)\n",
    "        #Note end wont be included\n",
    "        if(the_list[j]< pivot):\n",
    "            #print(the_list[j])\n",
    "            i+=1\n",
    "            #whenever we find something smaller than pivot, we look for previous i (which contains the latest small number and swap with its next position number)\n",
    "            temp = the_list[j]\n",
    "            the_list[j]= the_list[i]\n",
    "            the_list[i]=temp\n",
    "    the_list[end]= the_list[i+1]\n",
    "    the_list[i+1]=pivot\n",
    "    \n",
    "    return i+1\n",
    "    \n",
    "    \n",
    "            \n",
    "            \n",
    "        "
   ]
  },
  {
   "cell_type": "code",
   "execution_count": 62,
   "metadata": {},
   "outputs": [],
   "source": [
    "A=[10,8,9,6,11,1,3,4]"
   ]
  },
  {
   "cell_type": "code",
   "execution_count": 63,
   "metadata": {},
   "outputs": [
    {
     "data": {
      "text/plain": [
       "[1, 3, 4, 6, 11, 10, 8, 9]"
      ]
     },
     "execution_count": 63,
     "metadata": {},
     "output_type": "execute_result"
    }
   ],
   "source": [
    "partition(A,0, len(A)-1)\n",
    "A"
   ]
  },
  {
   "cell_type": "code",
   "execution_count": 64,
   "metadata": {},
   "outputs": [],
   "source": [
    "def quickSort(the_list, start=None, end=None):\n",
    "    if(start==None and end == None):\n",
    "        start=0\n",
    "        end= len(the_list)-1\n",
    "    \n",
    "    #Find partition\n",
    "    if(start<end): \n",
    "    #Note that we will run only until start<end, and on the keep finding the correct position for each element. By the time we reach the end of the tree, the list will already be sorted. Nothing needs to be done after that. \n",
    "    #Remember that in merge sort we had to first reach the bottom of the tree and apply merging logic. Here we apply partition logic first and keep finding the correct position for each pivot as we traverse the tree\n",
    "        \n",
    "        pivot_pos = partition(the_list, start, end)\n",
    "        quickSort(the_list, start, pivot_pos-1)\n",
    "        quickSort(the_list, pivot_pos+1, end)\n",
    "    \n",
    "    "
   ]
  },
  {
   "cell_type": "code",
   "execution_count": 65,
   "metadata": {},
   "outputs": [],
   "source": [
    "A=[10,8,9,6,11,1,3,4]"
   ]
  },
  {
   "cell_type": "code",
   "execution_count": 66,
   "metadata": {},
   "outputs": [],
   "source": [
    "quickSort(A)"
   ]
  },
  {
   "cell_type": "code",
   "execution_count": 67,
   "metadata": {},
   "outputs": [
    {
     "data": {
      "text/plain": [
       "[1, 3, 4, 6, 8, 9, 10, 11]"
      ]
     },
     "execution_count": 67,
     "metadata": {},
     "output_type": "execute_result"
    }
   ],
   "source": [
    "A"
   ]
  },
  {
   "cell_type": "code",
   "execution_count": 76,
   "metadata": {},
   "outputs": [],
   "source": [
    "#Write merge sort for me\n",
    "\n",
    "#Step1: merging two sorted arrays in place. get the section of two sorted arrays using start, end, middle (p,q,r)\n",
    "\n",
    "def merge_sorted(the_list, p, q, r):\n",
    "    left= the_list[p:q+1]\n",
    "    right = the_list[q+1:r+1]\n",
    "    i=0\n",
    "    j=0\n",
    "    k=p\n",
    "    \n",
    "    while(i<len(left) and j<len(right)):\n",
    "        if(left[i]<=right[j]):\n",
    "            the_list[k]=left[i]\n",
    "            i+=1\n",
    "            k+=1\n",
    "        else:\n",
    "            the_list[k]=right[j]\n",
    "            j+=1\n",
    "            k+=1\n",
    "    \n",
    "    if(i<len(left)):\n",
    "        the_list[k:r+1]= left[i:]\n",
    "    if(j<len(right)):\n",
    "        the_list[k:r+1]= right[j:]\n",
    "            \n",
    "    "
   ]
  },
  {
   "cell_type": "code",
   "execution_count": 77,
   "metadata": {},
   "outputs": [],
   "source": [
    "#Above will be the subroutine. Now we need to traverse to the bottom and collect the items and apply subroutine recursively.\n",
    "\n",
    "def merge(the_list, p=None, r=None):#We need to travel to the bottom.p=start, r=end\n",
    "    if(p==None and r==None):\n",
    "        p=0\n",
    "        r=len(the_list)-1\n",
    "    \n",
    "    if(p<r):\n",
    "        middle = int((p+r)/2)\n",
    "        merge(the_list, p, middle)\n",
    "        merge(the_list, middle+1, r)\n",
    "        merge_sorted(the_list, p, middle, r)\n",
    "    \n",
    "    "
   ]
  },
  {
   "cell_type": "code",
   "execution_count": 80,
   "metadata": {},
   "outputs": [
    {
     "name": "stdout",
     "output_type": "stream",
     "text": [
      "[1, 2, 5, 500, 4, 6, 7, 0.5]\n"
     ]
    }
   ],
   "source": [
    "sample=[1,2,5,500,4,6,7,0.5]\n",
    "print(sample)\n",
    "merge(sample)"
   ]
  },
  {
   "cell_type": "code",
   "execution_count": 81,
   "metadata": {},
   "outputs": [
    {
     "data": {
      "text/plain": [
       "[0.5, 1, 2, 4, 5, 6, 7, 500]"
      ]
     },
     "execution_count": 81,
     "metadata": {},
     "output_type": "execute_result"
    }
   ],
   "source": [
    "sample"
   ]
  },
  {
   "cell_type": "code",
   "execution_count": 90,
   "metadata": {},
   "outputs": [],
   "source": [
    "#Write quick sort for me\n",
    "#Step1: create a subroutine for finding correct position of the pivot. It should return the correct position of the pivot.\n",
    "#Given a list and a start and end position, we will consider the last position as pivot. \n",
    "#We start with the assumption that everything is greater than the pivot. Whenever we find something which is smaller than pivot, we place at ith positio\n",
    "def partition(the_list, start, end):\n",
    "    pivot= the_list[end]\n",
    "    i=start-1\n",
    "    j=start\n",
    "    \n",
    "    while(j<end): #Note that we dont travel till the last element\n",
    "        if(the_list[j]<pivot): #Then i++ (coz now the pivot position shifts. Remember, earlier we thought pivot was at the start)\n",
    "            i+=1\n",
    "            #Swap with i. Note that this i can either be same as j or lie on the other side of the pivot\n",
    "            temp= the_list[i]\n",
    "            the_list[i]=the_list[j]\n",
    "            the_list[j]=temp\n",
    "        j+=1\n",
    "    the_list[end] = the_list[i+1]\n",
    "    the_list[i+1] = pivot\n",
    "    \n",
    "    return i+1 #This is the pivot position\n",
    "    \n",
    "            \n",
    "    \n",
    "    "
   ]
  },
  {
   "cell_type": "code",
   "execution_count": 91,
   "metadata": {},
   "outputs": [],
   "source": [
    "#Now we need to run quick sort recursively such that we travel to the bottom by consider each number as pivot and keep finding its correct position\n",
    "#Note that we could have run a simple for loop for the same but that will lead to n^2 complexity. Quick sort will bring it down to nlogn\n",
    "\n",
    "def quick(the_list, p=None, r=None):#We need to travel to the bottom.p=start, r=end\n",
    "    \n",
    "    if(p==None and r==None): #Base case\n",
    "        p=0\n",
    "        r=len(the_list)-1\n",
    "    \n",
    "    if(p<r): #as soon as p=r we are done. coz on the way we would have calculated the corrected position for all the items\n",
    "        pivot_pos = partition(the_list, p, r)\n",
    "        quick(the_list, p, pivot_pos-1)\n",
    "        quick(the_list, pivot_pos+1, r)\n",
    "        \n",
    "        \n",
    "    \n",
    "    "
   ]
  },
  {
   "cell_type": "code",
   "execution_count": 92,
   "metadata": {},
   "outputs": [
    {
     "name": "stdout",
     "output_type": "stream",
     "text": [
      "[1, 2, 5, 500, 4, 6, 7, 0.5]\n"
     ]
    }
   ],
   "source": [
    "sample=[1,2,5,500,4,6,7,0.5]\n",
    "print(sample)\n",
    "quick(sample)"
   ]
  },
  {
   "cell_type": "code",
   "execution_count": 93,
   "metadata": {},
   "outputs": [
    {
     "data": {
      "text/plain": [
       "[0.5, 1, 2, 4, 5, 6, 7, 500]"
      ]
     },
     "execution_count": 93,
     "metadata": {},
     "output_type": "execute_result"
    }
   ],
   "source": [
    "sample"
   ]
  },
  {
   "cell_type": "code",
   "execution_count": null,
   "metadata": {},
   "outputs": [],
   "source": []
  }
 ],
 "metadata": {
  "kernelspec": {
   "display_name": "Python 3",
   "language": "python",
   "name": "python3"
  },
  "language_info": {
   "codemirror_mode": {
    "name": "ipython",
    "version": 3
   },
   "file_extension": ".py",
   "mimetype": "text/x-python",
   "name": "python",
   "nbconvert_exporter": "python",
   "pygments_lexer": "ipython3",
   "version": "3.7.3"
  }
 },
 "nbformat": 4,
 "nbformat_minor": 2
}
